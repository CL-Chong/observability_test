{
 "cells": [
  {
   "cell_type": "code",
   "execution_count": 14,
   "metadata": {},
   "outputs": [
    {
     "ename": "AttributeError",
     "evalue": "type object 'Tmp' has no attribute '_aname'",
     "output_type": "error",
     "traceback": [
      "\u001b[0;31m---------------------------------------------------------------------------\u001b[0m",
      "\u001b[0;31mAttributeError\u001b[0m                            Traceback (most recent call last)",
      "\u001b[1;32m/home/hs293go/python-scripts/observability_test/mc.ipynb Cell 1\u001b[0m line \u001b[0;36m3\n\u001b[1;32m     <a href='vscode-notebook-cell:/home/hs293go/python-scripts/observability_test/mc.ipynb#W0sZmlsZQ%3D%3D?line=30'>31</a>\u001b[0m         \u001b[39mreturn\u001b[39;00m \u001b[39mself\u001b[39m\u001b[39m.\u001b[39m_aname\n\u001b[1;32m     <a href='vscode-notebook-cell:/home/hs293go/python-scripts/observability_test/mc.ipynb#W0sZmlsZQ%3D%3D?line=33'>34</a>\u001b[0m tmp \u001b[39m=\u001b[39m Tmp()\n\u001b[0;32m---> <a href='vscode-notebook-cell:/home/hs293go/python-scripts/observability_test/mc.ipynb#W0sZmlsZQ%3D%3D?line=35'>36</a>\u001b[0m tmp\u001b[39m.\u001b[39mdispatcher[\u001b[39m\"\u001b[39m\u001b[39ma\u001b[39m\u001b[39m\"\u001b[39m]()\n",
      "\u001b[1;32m/home/hs293go/python-scripts/observability_test/mc.ipynb Cell 1\u001b[0m line \u001b[0;36m3\n\u001b[1;32m     <a href='vscode-notebook-cell:/home/hs293go/python-scripts/observability_test/mc.ipynb#W0sZmlsZQ%3D%3D?line=29'>30</a>\u001b[0m \u001b[39mdef\u001b[39;00m \u001b[39ma\u001b[39m(\u001b[39mself\u001b[39m):\n\u001b[0;32m---> <a href='vscode-notebook-cell:/home/hs293go/python-scripts/observability_test/mc.ipynb#W0sZmlsZQ%3D%3D?line=30'>31</a>\u001b[0m     \u001b[39mreturn\u001b[39;00m \u001b[39mself\u001b[39m\u001b[39m.\u001b[39m_aname\n",
      "\u001b[0;31mAttributeError\u001b[0m: type object 'Tmp' has no attribute '_aname'"
     ]
    }
   ],
   "source": [
    "import functools\n",
    "\n",
    "\n",
    "def is_dunder(name: str):\n",
    "    return name.startswith(\"__\") and name.endswith(\"__\")\n",
    "\n",
    "\n",
    "class MC(type):\n",
    "    def __new__(cls, name, bases, attrs):\n",
    "        attrs[\"dispatcher\"] = {\n",
    "            k: v for k, v in attrs.items() if callable(v) and not is_dunder(k)\n",
    "        }\n",
    "        return super(__class__, cls).__new__(cls, name, bases, attrs)\n",
    "\n",
    "    def __init__(self, name, bases, attrs):\n",
    "        self.dispatcher = {\n",
    "            k: functools.partial(v, self) for k, v in self.dispatcher.items()\n",
    "        }\n",
    "\n",
    "\n",
    "class Parent:\n",
    "    def some(self):\n",
    "        return 1\n",
    "\n",
    "\n",
    "class Tmp(Parent, metaclass=MC):\n",
    "    def __init__(self):\n",
    "        self._aname = \"alpha\"\n",
    "\n",
    "    def a(self):\n",
    "        return self._aname\n",
    "\n",
    "\n",
    "tmp = Tmp()\n",
    "\n",
    "tmp.dispatcher[\"a\"]()\n"
   ]
  }
 ],
 "metadata": {
  "kernelspec": {
   "display_name": "control_env",
   "language": "python",
   "name": "python3"
  },
  "language_info": {
   "codemirror_mode": {
    "name": "ipython",
    "version": 3
   },
   "file_extension": ".py",
   "mimetype": "text/x-python",
   "name": "python",
   "nbconvert_exporter": "python",
   "pygments_lexer": "ipython3",
   "version": "3.11.5"
  }
 },
 "nbformat": 4,
 "nbformat_minor": 2
}
